{
 "cells": [
  {
   "cell_type": "code",
   "execution_count": null,
   "metadata": {},
   "outputs": [],
   "source": [
    "import numpy as np"
   ]
  },
  {
   "cell_type": "code",
   "execution_count": null,
   "metadata": {},
   "outputs": [],
   "source": [
    "from photodiag import PalmSetup\n",
    "palm = PalmSetup(\n",
    "    channels={'0': 'SAROP21-PALMK134:CH1_BUFFER', '1': 'SAROP21-PALMK134:CH2_BUFFER'},\n",
    "    noise_range=[0, 250], energy_range=np.linspace(2850, 2900, 300))"
   ]
  },
  {
   "cell_type": "code",
   "execution_count": null,
   "metadata": {},
   "outputs": [],
   "source": [
    "# Working with PALM primarily consists of 3 steps,\n",
    "# 1. calibration (needs to be done only once)\n",
    "\n",
    "# a. it can be done via direct calibration\n",
    "palm.calibrate_etof('<folder_path_with_calibration_data>')"
   ]
  },
  {
   "cell_type": "code",
   "execution_count": null,
   "metadata": {},
   "outputs": [],
   "source": [
    "# b. or by loading a saved calibration file\n",
    "palm.load_etof_calib('<saved_calibration_file_path>')"
   ]
  },
  {
   "cell_type": "code",
   "execution_count": null,
   "metadata": {},
   "outputs": [],
   "source": [
    "# some insights into calibration results\n",
    "palm.etofs['0'].calib_data"
   ]
  },
  {
   "cell_type": "code",
   "execution_count": null,
   "metadata": {},
   "outputs": [],
   "source": [
    "# 2. actual data analysis\n",
    "pulse_ids, delays, pulse_lengths = palm.process_hdf5_file('<data_file_path>', debug=False)"
   ]
  },
  {
   "cell_type": "code",
   "execution_count": null,
   "metadata": {},
   "outputs": [],
   "source": [
    "# or with some debug data\n",
    "pulse_id, delays, pulse_lengths, debug_data = palm.process_hdf5_file('<data_file_path>', debug=True)"
   ]
  },
  {
   "cell_type": "code",
   "execution_count": null,
   "metadata": {},
   "outputs": [],
   "source": [
    "debug_data"
   ]
  },
  {
   "cell_type": "code",
   "execution_count": null,
   "metadata": {},
   "outputs": [],
   "source": [
    "# Energy interpolation points can be changed via\n",
    "palm.energy_range = np.linspace(2850, 2900, 300)"
   ]
  },
  {
   "cell_type": "code",
   "execution_count": null,
   "metadata": {},
   "outputs": [],
   "source": [
    "# 3. translate 'eV' to 'fs' via THz streaking field\n",
    "thz_slope = ...\n",
    "\n",
    "delays /= thz_slope\n",
    "pulse_lengths /= thz_slope"
   ]
  }
 ],
 "metadata": {
  "kernelspec": {
   "display_name": "Python 3",
   "language": "python",
   "name": "python3"
  },
  "language_info": {
   "codemirror_mode": {
    "name": "ipython",
    "version": 3
   },
   "file_extension": ".py",
   "mimetype": "text/x-python",
   "name": "python",
   "nbconvert_exporter": "python",
   "pygments_lexer": "ipython3",
   "version": "3.6.6"
  }
 },
 "nbformat": 4,
 "nbformat_minor": 2
}
