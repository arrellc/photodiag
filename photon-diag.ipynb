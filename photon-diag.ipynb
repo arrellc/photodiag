{
 "cells": [
  {
   "cell_type": "code",
   "execution_count": null,
   "metadata": {
    "collapsed": true,
    "extensions": {
     "jupyter_dashboards": {
      "version": 1,
      "views": {
       "grid_default": {
        "hidden": true
       },
       "report_default": {
        "hidden": true
       }
      }
     }
    }
   },
   "outputs": [],
   "source": [
    "# utility stuff\n",
    "from IPython.core.interactiveshell import InteractiveShell\n",
    "InteractiveShell.ast_node_interactivity = \"all\"\n",
    "import matplotlib.pyplot as plt\n",
    "%matplotlib inline"
   ]
  },
  {
   "cell_type": "code",
   "execution_count": null,
   "metadata": {
    "extensions": {
     "jupyter_dashboards": {
      "version": 1,
      "views": {
       "grid_default": {
        "hidden": true
       },
       "report_default": {
        "hidden": false
       }
      }
     }
    },
    "scrolled": true
   },
   "outputs": [],
   "source": [
    "import ipywidgets as wdg\n",
    "import numpy as np\n",
    "from IPython.display import display\n",
    "\n",
    "from bokeh.io import output_notebook, push_notebook\n",
    "from bokeh.plotting import figure, show\n",
    "output_notebook(hide_banner=True)"
   ]
  },
  {
   "cell_type": "code",
   "execution_count": null,
   "metadata": {
    "collapsed": true,
    "extensions": {
     "jupyter_dashboards": {
      "version": 1,
      "views": {
       "grid_default": {
        "hidden": true
       },
       "report_default": {
        "hidden": true
       }
      }
     }
    }
   },
   "outputs": [],
   "source": [
    "from photon_diag.palm_code import PalmSetup\n",
    "from photon_diag.psen_code import PsenSetup\n",
    "\n",
    "# Directory with calibration and other data files\n",
    "home_dir = '/home/usov_i/Documents/PALM_project/'\n",
    "\n",
    "palm = PalmSetup(home_dir=home_dir)\n",
    "psen = PsenSetup(home_dir=home_dir, ttcalib=2.627)"
   ]
  },
  {
   "cell_type": "markdown",
   "metadata": {
    "extensions": {
     "jupyter_dashboards": {
      "version": 1,
      "views": {
       "grid_default": {
        "col": 0,
        "height": 2,
        "hidden": false,
        "row": 0,
        "width": 7
       },
       "report_default": {
        "hidden": true
       }
      }
     }
    }
   },
   "source": [
    "### Calibration"
   ]
  },
  {
   "cell_type": "code",
   "execution_count": null,
   "metadata": {
    "extensions": {
     "jupyter_dashboards": {
      "version": 1,
      "views": {
       "grid_default": {
        "col": 6,
        "height": 11,
        "hidden": false,
        "row": 2,
        "width": 6
       },
       "report_default": {
        "hidden": true
       }
      }
     }
    },
    "scrolled": true
   },
   "outputs": [],
   "source": [
    "# Calibration plot\n",
    "calib_fig = figure(plot_width=500, plot_height=300, logo=None)\n",
    "circle1 = calib_fig.circle([], [], legend='eTOF1') # dummy plot to organize a figure placeholder\n",
    "circle3 = calib_fig.circle([], [], legend='eTOF3', color='red')\n",
    "line1 = calib_fig.line([], [], legend='eTOF1')\n",
    "line3 = calib_fig.line([], [], legend='eTOF3', color='red')\n",
    "calib_fig.legend.visible = False\n",
    "calib_fig.xaxis.axis_label = 'Spectrometer time'\n",
    "calib_fig.yaxis.axis_label = 'Photon energy, eV'\n",
    "calib_plot = show(calib_fig, notebook_handle=True);"
   ]
  },
  {
   "cell_type": "code",
   "execution_count": null,
   "metadata": {
    "extensions": {
     "jupyter_dashboards": {
      "version": 1,
      "views": {
       "grid_default": {
        "col": 1,
        "height": 7,
        "hidden": false,
        "row": 2,
        "width": 5
       },
       "report_default": {
        "hidden": true
       }
      }
     }
    }
   },
   "outputs": [],
   "source": [
    "# Path to folder with calibration runs\n",
    "path_w = wdg.Text(\n",
    "    value='etof_calib_9keV',\n",
    "    description='Folder name:',\n",
    ")\n",
    "\n",
    "# Background energy\n",
    "bkg_en_w = wdg.IntText(\n",
    "    value=8600,\n",
    "    description='Background energy (eV):',\n",
    ")\n",
    "\n",
    "# Fields with calibration constants' values\n",
    "label_w = wdg.Label(\n",
    "    value='Calibration constants:',\n",
    "    layout=wdg.Layout(width='500px')\n",
    ")\n",
    "\n",
    "common_params = {'min': 0, 'max': 10e7, 'disabled': True, 'layout': wdg.Layout(width='150px')}\n",
    "a1_w = wdg.BoundedFloatText(description='a1:', **common_params)\n",
    "a3_w = wdg.BoundedFloatText(description='a3:', **common_params)\n",
    "c1_w = wdg.BoundedFloatText(description='c1:', **common_params)\n",
    "c3_w = wdg.BoundedFloatText(description='c3:', **common_params)\n",
    "\n",
    "# Group elements and display\n",
    "wdg.VBox([path_w, bkg_en_w])\n",
    "wdg.VBox([label_w, wdg.HBox([a1_w, c1_w]), wdg.HBox([a3_w, c3_w])])"
   ]
  },
  {
   "cell_type": "code",
   "execution_count": null,
   "metadata": {
    "extensions": {
     "jupyter_dashboards": {
      "version": 1,
      "views": {
       "grid_default": {
        "col": 1,
        "height": 2,
        "hidden": false,
        "row": 9,
        "width": 3
       },
       "report_default": {}
      }
     }
    }
   },
   "outputs": [],
   "source": [
    "def plot_fit(time, a, c):\n",
    "    time_fit = np.arange(time.min(), time.max(), 0.1)  # make sure that the step is appropriate\n",
    "    en_fit = (a / time_fit)**2 + c\n",
    "    return time_fit, en_fit\n",
    "\n",
    "def update(calib_res, circle, line, a_w, c_w):\n",
    "    (a, c), x, y = calib_res\n",
    "    x_fit, y_fit = plot_fit(x, a, c)\n",
    "    circle.data_source.data = {'x': x, 'y': y}\n",
    "    line.data_source.data = {'x': x_fit, 'y': y_fit}\n",
    "    a_w.value = round(a, 2)\n",
    "    c_w.value = round(c)\n",
    "\n",
    "def plot_results(calib_res):\n",
    "    calib_res1 = calib_res['1']\n",
    "    calib_res3 = calib_res['0']\n",
    "    update(calib_res1, circle1, line1, a1_w, c1_w)\n",
    "    update(calib_res3, circle3, line3, a3_w, c3_w)\n",
    "    calib_fig.legend.visible = True\n",
    "    \n",
    "    push_notebook(handle=calib_plot);\n",
    "\n",
    "def update_button(b):\n",
    "    calib_res = palm.calibrate(path_w.value, bkg_en=bkg_en_w.value, overwrite=False)\n",
    "    plot_results(calib_res)\n",
    "\n",
    "def recalib_button(b):\n",
    "    calib_res = palm.calibrate(path_w.value, bkg_en=bkg_en_w.value)\n",
    "    plot_results(calib_res)\n",
    "\n",
    "# 'Update' button\n",
    "b_update_w = wdg.Button(description='Update')\n",
    "b_update_w.on_click(update_button)\n",
    "\n",
    "\n",
    "# 'Recalibrate' button\n",
    "b_recalib_w = wdg.Button(description='Recalibrate')\n",
    "b_recalib_w.on_click(recalib_button)\n",
    "wdg.HBox([b_update_w, b_recalib_w])"
   ]
  },
  {
   "cell_type": "markdown",
   "metadata": {
    "extensions": {
     "jupyter_dashboards": {
      "version": 1,
      "views": {
       "grid_default": {
        "col": 0,
        "height": 2,
        "hidden": false,
        "row": 11,
        "width": 5
       },
       "report_default": {
        "hidden": true
       }
      }
     }
    }
   },
   "source": [
    "### Select file to analyse"
   ]
  },
  {
   "cell_type": "code",
   "execution_count": null,
   "metadata": {
    "extensions": {
     "jupyter_dashboards": {
      "version": 1,
      "views": {
       "grid_default": {
        "col": 1,
        "height": 4,
        "hidden": false,
        "row": 13,
        "width": 3
       },
       "report_default": {}
      }
     }
    }
   },
   "outputs": [],
   "source": [
    "input_form = \"\"\"\n",
    "<div style=\"padding:20px;\">\n",
    "<input type=\"file\" accept=\".h5,.hdf5\" id=\"select_file\" name=\"files[]\"/>\n",
    "<output id=\"list\"></output>\n",
    "</div>\n",
    "\"\"\"\n",
    "\n",
    "javascript = \"\"\"\n",
    "<script type=\"text/Javascript\">\n",
    "  function handleFileSelect(evt) {\n",
    "    var kernel = IPython.notebook.kernel;\n",
    "    var files = evt.target.files;\n",
    "    var output = [];\n",
    "    var f = files[0]\n",
    "    output.push('<li><strong>', escape(f.name), '</strong> - ',\n",
    "                  f.size, ' bytes, last modified: ',\n",
    "                  f.lastModifiedDate ? f.lastModifiedDate.toLocaleDateString() : 'n/a',\n",
    "                  '</_Mli>');\n",
    "    document.getElementById('list').innerHTML = '<ul>' + output.join('') + '</ul>';\n",
    "    var command = '(lags, delays, plen), prep_data = palm.process_hdf5_file(\"' + f.name + '\")'\n",
    "    kernel.execute(command);\n",
    "  }\n",
    "\n",
    "  document.getElementById('select_file').addEventListener('change', handleFileSelect, false);\n",
    "</script>\n",
    "\"\"\"\n",
    "\n",
    "def file_selector():\n",
    "    from IPython.display import HTML, display\n",
    "    display(HTML(input_form + javascript))\n",
    "    \n",
    "file_selector()"
   ]
  },
  {
   "cell_type": "code",
   "execution_count": null,
   "metadata": {
    "extensions": {
     "jupyter_dashboards": {
      "version": 1,
      "views": {
       "grid_default": {
        "col": 6,
        "height": 11,
        "hidden": false,
        "row": 13,
        "width": 6
       },
       "report_default": {}
      }
     }
    },
    "scrolled": true
   },
   "outputs": [],
   "source": [
    "# Time stage delay plot\n",
    "delay_fig = figure(plot_width=500, plot_height=300, logo=None)\n",
    "delay_fig.circle([], []) # dummy plot to organize a figure placeholder\n",
    "delay_fig.xaxis.axis_label = 'Sacla timing tool, fs'\n",
    "delay_fig.yaxis.axis_label = 'Pulse energy shift, eV'\n",
    "delay_plot = show(delay_fig, notebook_handle=True);"
   ]
  },
  {
   "cell_type": "code",
   "execution_count": null,
   "metadata": {
    "extensions": {
     "jupyter_dashboards": {
      "version": 1,
      "views": {
       "grid_default": {
        "col": 1,
        "height": 2,
        "hidden": false,
        "row": 17,
        "width": 2
       },
       "report_default": {}
      }
     }
    }
   },
   "outputs": [],
   "source": [
    "def time_delay_button(b):\n",
    "    psen.load_sacla_data('392044.csv')\n",
    "\n",
    "    # Synchronize palm and psen tags\n",
    "    palm_tags = palm.tags\n",
    "    sacla_tags = psen.tags\n",
    "\n",
    "    ind = np.in1d(palm_tags, sacla_tags)\n",
    "    palm_tags = palm_tags[ind]\n",
    "    palm_en = delays[ind]\n",
    "    ind = np.in1d(sacla_tags, palm_tags)\n",
    "    sacla_tags = sacla_tags[ind]\n",
    "    sacla_time = psen.data[ind]\n",
    "    \n",
    "    delay_fig.circle(sacla_time, palm_en, size=1)\n",
    "    \n",
    "    # Update time stage delay and pulse length dist figures\n",
    "    push_notebook(handle=delay_plot);\n",
    "    \n",
    "    hist, edges = np.histogram(plen[plen!=0], bins=50)\n",
    "    plength_fig.quad(top=hist, bottom=0, left=edges[:-1], right=edges[1:], line_color=\"#033649\")\n",
    "    push_notebook(handle=plength_plot);\n",
    "\n",
    "# 'Time stage delay' button\n",
    "b_delay_w = wdg.Button(description='Time stage delay')\n",
    "b_delay_w.on_click(time_delay_button)\n",
    "b_delay_w"
   ]
  },
  {
   "cell_type": "code",
   "execution_count": null,
   "metadata": {
    "extensions": {
     "jupyter_dashboards": {
      "version": 1,
      "views": {
       "grid_default": {
        "col": 1,
        "height": 2,
        "hidden": false,
        "row": 19,
        "width": 4
       },
       "report_default": {}
      }
     }
    }
   },
   "outputs": [],
   "source": [
    "def pulse_num_change(b):\n",
    "    res_arr_time = delays/0.25\n",
    "    arr_time_w.value = round(res_arr_time[b.new], 2)\n",
    "    pulse_length_w.value = round(plen[b.new], 2)\n",
    "    \n",
    "    data1 = prep_data['1']\n",
    "    data0 = prep_data['0']\n",
    "    pline1.data_source.data = {'x': lags, 'y': data1[b.new,:]}\n",
    "    pline3.data_source.data = {'x': lags, 'y': data0[b.new,:]}\n",
    "    calib_fig.legend.visible = True\n",
    "    \n",
    "    push_notebook(handle=xcorr_plot);\n",
    "\n",
    "pulse_num_w = wdg.IntText(\n",
    "    value=0,\n",
    "    description='Pulse number:',\n",
    "    disabled=False,\n",
    ")\n",
    "\n",
    "pulse_num_w.observe(pulse_num_change, names='value')\n",
    "pulse_num_w"
   ]
  },
  {
   "cell_type": "markdown",
   "metadata": {
    "extensions": {
     "jupyter_dashboards": {
      "version": 1,
      "views": {
       "grid_default": {
        "col": 0,
        "height": 2,
        "hidden": false,
        "row": 24,
        "width": 8
       },
       "report_default": {}
      }
     }
    }
   },
   "source": [
    "### Examples of results/intermediates/debuging visualization"
   ]
  },
  {
   "cell_type": "code",
   "execution_count": null,
   "metadata": {
    "extensions": {
     "jupyter_dashboards": {
      "version": 1,
      "views": {
       "grid_default": {
        "col": 0,
        "height": 11,
        "hidden": false,
        "row": 26,
        "width": 6
       },
       "report_default": {}
      }
     }
    }
   },
   "outputs": [],
   "source": [
    "# Cross-corr plot\n",
    "xcorr_fig = figure(plot_width=500, plot_height=300, title='Pulse arrival time', logo=None)\n",
    "pline1 = xcorr_fig.line([], [], legend='eTOF1') # dummy lines to organize a figure placeholder\n",
    "pline3 = xcorr_fig.line([], [], legend='eTOF3', color='red')\n",
    "calib_fig.legend.visible = False\n",
    "xcorr_fig.xaxis.axis_label = 'Pulse energy shift, eV'\n",
    "xcorr_fig.yaxis.axis_label = 'Intensity, a.u.'\n",
    "xcorr_plot = show(xcorr_fig, notebook_handle=True);"
   ]
  },
  {
   "cell_type": "code",
   "execution_count": null,
   "metadata": {
    "extensions": {
     "jupyter_dashboards": {
      "version": 1,
      "views": {
       "grid_default": {
        "col": 1,
        "height": 3,
        "hidden": false,
        "row": 21,
        "width": 4
       },
       "report_default": {}
      }
     }
    }
   },
   "outputs": [],
   "source": [
    "arr_time_w = wdg.FloatText(\n",
    "    value=0,\n",
    "    description='Relative arrival time (fs):',\n",
    "    disabled=True\n",
    ")\n",
    "arr_time_w\n",
    "\n",
    "pulse_length_w = wdg.FloatText(\n",
    "    value=0,\n",
    "    description='Pulse length (fs):',\n",
    "    disabled=True\n",
    ")\n",
    "pulse_length_w"
   ]
  },
  {
   "cell_type": "code",
   "execution_count": null,
   "metadata": {
    "extensions": {
     "jupyter_dashboards": {
      "version": 1,
      "views": {
       "grid_default": {
        "col": 6,
        "height": 11,
        "hidden": false,
        "row": 26,
        "width": 6
       },
       "report_default": {}
      }
     }
    }
   },
   "outputs": [],
   "source": [
    "# Pulse length distribution\n",
    "plength_fig = figure(plot_width=500, plot_height=300, title='Pulse lenght distribution', logo=None)\n",
    "plength_fig.quad([], [], [], []) # dummy plot to organize a figure placeholder\n",
    "plength_fig.xaxis.axis_label = 'Pulse length, fs'\n",
    "plength_fig.yaxis.axis_label = 'Counts'\n",
    "plength_plot = show(plength_fig, notebook_handle=True);"
   ]
  },
  {
   "cell_type": "markdown",
   "metadata": {
    "extensions": {
     "jupyter_dashboards": {
      "version": 1,
      "views": {
       "grid_default": {
        "col": 0,
        "height": 4,
        "hidden": true,
        "row": 42,
        "width": 4
       },
       "report_default": {}
      }
     }
    }
   },
   "source": [
    "# Utility stuff"
   ]
  },
  {
   "cell_type": "code",
   "execution_count": null,
   "metadata": {
    "extensions": {
     "jupyter_dashboards": {
      "version": 1,
      "views": {
       "grid_default": {
        "col": 0,
        "height": 6,
        "hidden": true,
        "row": 37,
        "width": 12
       },
       "report_default": {
        "hidden": true
       }
      }
     }
    }
   },
   "outputs": [],
   "source": [
    "tab_names = ['Calibration', 'Pulse arrival time', 'Pulse length']\n",
    "children = [wdg.Text(description=name) for name in tab_names]\n",
    "\n",
    "common_params = {'min': 0, 'max': 10e7, 'layout': wdg.Layout(width='150px')}\n",
    "a1w = wdg.BoundedFloatText(description='a1:', **common_params)\n",
    "a3w = wdg.BoundedFloatText(description='a3:', disabled=True, **common_params)\n",
    "c1w = wdg.BoundedFloatText(description='c1:', disabled=True, **common_params)\n",
    "c3w = wdg.BoundedFloatText(description='c3:', disabled=True, **common_params)\n",
    "b = wdg.Button(description='Calibrate')\n",
    "\n",
    "children[0] = wdg.HBox([wdg.VBox([a1w, a3w, b]), wdg.VBox([c1w, c3w])])\n",
    "\n",
    "tab = wdg.Tab()\n",
    "tab.children = children\n",
    "for i in range(len(tab_names)):\n",
    "    tab.set_title(i, tab_names[i])\n",
    "tab"
   ]
  },
  {
   "cell_type": "code",
   "execution_count": null,
   "metadata": {
    "collapsed": true,
    "extensions": {
     "jupyter_dashboards": {
      "version": 1,
      "views": {
       "grid_default": {
        "hidden": true
       },
       "report_default": {}
      }
     }
    }
   },
   "outputs": [],
   "source": [
    "# wdg.Dropdown(\n",
    "#     options=list(map(str, range(10000))),\n",
    "#     value='2',\n",
    "#     description='Number:',\n",
    "#     disabled=False,\n",
    "# )"
   ]
  },
  {
   "cell_type": "code",
   "execution_count": null,
   "metadata": {
    "collapsed": true,
    "extensions": {
     "jupyter_dashboards": {
      "version": 1,
      "views": {
       "grid_default": {
        "hidden": true
       },
       "report_default": {
        "hidden": true
       }
      }
     }
    }
   },
   "outputs": [],
   "source": [
    "# def change_pulse(b):\n",
    "#     if b.description == \"Prev\":\n",
    "#         if w.value != 1:\n",
    "#             w.value -= 1\n",
    "#     else:\n",
    "#         if w.value != palm._tags.size:\n",
    "#             w.value += 1\n",
    "\n",
    "# w = wdg.BoundedIntText(min=1, max=palm._tags.size, step=1, value=1, description='Pulse index:')\n",
    "# w.observe(plot_all, names='value')\n",
    "\n",
    "# b_p = wdg.Button(description=\"Plot\")\n",
    "# b_prev = wdg.Button(description=\"Prev\")\n",
    "# b_next = wdg.Button(description=\"Next\")\n",
    "# b_prev.on_click(change_pulse)\n",
    "# b_next.on_click(change_pulse)\n",
    "\n",
    "# wdg.VBox([wdg.HBox([b_prev, b_next]), w, b])\n",
    "# ---\n",
    "# b_prev = wdg.Button(description=\"Prev\")\n",
    "# b_next = wdg.Button(description=\"Next\")\n",
    "\n",
    "# def change_pulse(b):\n",
    "#     TODO: get the BoundedIntText value\n",
    "#     if b.description == \"Prev\":\n",
    "#         if curr_pulse_id != 1:\n",
    "#             curr_pulse_id -= 1\n",
    "#             plot_all(curr_pulse_id)\n",
    "            \n",
    "#     else:\n",
    "#         if curr_pulse_id != palm._tags.size:\n",
    "#             curr_pulse_id += 1\n",
    "#             plot_all(curr_pulse_id)\n",
    "        \n",
    "# b_prev.on_click(change_pulse)\n",
    "# b_next.on_click(change_pulse)\n",
    "# wdg.HBox([b_prev, b_next])"
   ]
  }
 ],
 "metadata": {
  "anaconda-cloud": {},
  "extensions": {
   "jupyter_dashboards": {
    "activeView": "grid_default",
    "version": 1,
    "views": {
     "grid_default": {
      "cellMargin": 10,
      "defaultCellHeight": 20,
      "maxColumns": 12,
      "name": "grid",
      "type": "grid"
     },
     "report_default": {
      "name": "report",
      "type": "report"
     }
    }
   }
  },
  "kernelspec": {
   "display_name": "Python 3",
   "language": "python",
   "name": "python3"
  },
  "language_info": {
   "codemirror_mode": {
    "name": "ipython",
    "version": 3
   },
   "file_extension": ".py",
   "mimetype": "text/x-python",
   "name": "python",
   "nbconvert_exporter": "python",
   "pygments_lexer": "ipython3",
   "version": "3.6.1"
  },
  "nbpresent": {
   "slides": {
    "31078f5f-836b-4e77-b788-5a4de48049b7": {
     "id": "31078f5f-836b-4e77-b788-5a4de48049b7",
     "prev": null,
     "regions": {
      "80abb766-32c6-4844-a281-fe3d179019aa": {
       "attrs": {
        "height": 0.8,
        "width": 0.8,
        "x": 0.1,
        "y": 0.1
       },
       "content": {
        "cell": "4ac33d42-f871-44e7-b2ce-8c4c01267346",
        "part": "whole"
       },
       "id": "80abb766-32c6-4844-a281-fe3d179019aa"
      }
     }
    },
    "b5fc5e16-01fe-4d86-9cab-82d5f1521871": {
     "id": "b5fc5e16-01fe-4d86-9cab-82d5f1521871",
     "prev": "31078f5f-836b-4e77-b788-5a4de48049b7",
     "regions": {
      "34720528-7ccb-49d5-af11-232b75af68a3": {
       "attrs": {
        "height": 0.8,
        "width": 0.8,
        "x": 0.1,
        "y": 0.1
       },
       "content": {
        "cell": "a6a09442-1e78-49eb-8004-622626cfcdf5",
        "part": "whole"
       },
       "id": "34720528-7ccb-49d5-af11-232b75af68a3"
      }
     }
    },
    "f1f911d7-888d-4eb9-ad91-0c2b50855f46": {
     "id": "f1f911d7-888d-4eb9-ad91-0c2b50855f46",
     "prev": "b5fc5e16-01fe-4d86-9cab-82d5f1521871",
     "regions": {
      "2d975d8e-0f3a-4831-ac01-3ae6e873f4c3": {
       "attrs": {
        "height": 0.8,
        "width": 0.8,
        "x": 0.1,
        "y": 0.1
       },
       "content": {
        "cell": "16e89e43-29ad-46ec-9f5b-84752d17dd11",
        "part": "whole"
       },
       "id": "2d975d8e-0f3a-4831-ac01-3ae6e873f4c3"
      }
     }
    }
   },
   "themes": {}
  }
 },
 "nbformat": 4,
 "nbformat_minor": 1
}
